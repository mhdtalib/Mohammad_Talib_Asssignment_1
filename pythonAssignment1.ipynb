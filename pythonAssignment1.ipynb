{
 "cells": [
  {
   "cell_type": "code",
   "execution_count": 9,
   "id": "7b247317",
   "metadata": {},
   "outputs": [
    {
     "name": "stdout",
     "output_type": "stream",
     "text": [
      "1\n",
      "1\n",
      "2\n",
      "3\n",
      "5\n",
      "8\n",
      "13\n",
      "21\n",
      "34\n"
     ]
    }
   ],
   "source": [
    "#fibonacci series between 0 to 50\n",
    "x,y=0,1\n",
    "while y<50:\n",
    "    print(y)\n",
    "    x,y = y,x+y"
   ]
  },
  {
   "cell_type": "code",
   "execution_count": 7,
   "id": "39a71f0d",
   "metadata": {},
   "outputs": [
    {
     "name": "stdout",
     "output_type": "stream",
     "text": [
      "adoydE\n"
     ]
    }
   ],
   "source": [
    "#Send the words to mirror dimension\n",
    "x = \"Edyoda\"\n",
    "x = x[::-1 ]\n",
    "print (x)"
   ]
  },
  {
   "cell_type": "code",
   "execution_count": 10,
   "id": "c3576f2b",
   "metadata": {},
   "outputs": [
    {
     "name": "stdout",
     "output_type": "stream",
     "text": [
      "no.of even days: 0\n",
      "no.of odd days: 1\n",
      "no.of even days: 1\n",
      "no.of odd days: 2\n",
      "no.of even days: 2\n",
      "no.of odd days: 3\n",
      "no.of even days: 3\n",
      "no.of odd days: 4\n",
      "no.of even days: 4\n",
      "no.of odd days: 5\n"
     ]
    }
   ],
   "source": [
    "#Don't go outside in odd day\n",
    "no_of_days = [1,2,3,4,5,6,7,8,9]\n",
    "even_count = 0\n",
    "odd_count = 0\n",
    "for days in no_of_days:\n",
    "    if days%2==0:\n",
    "        even_count+=1\n",
    "    else:\n",
    "            odd_count+=1\n",
    "            print(\"no.of even days:\",even_count)\n",
    "            print(\"no.of odd days:\",odd_count)"
   ]
  }
 ],
 "metadata": {
  "kernelspec": {
   "display_name": "Python 3 (ipykernel)",
   "language": "python",
   "name": "python3"
  },
  "language_info": {
   "codemirror_mode": {
    "name": "ipython",
    "version": 3
   },
   "file_extension": ".py",
   "mimetype": "text/x-python",
   "name": "python",
   "nbconvert_exporter": "python",
   "pygments_lexer": "ipython3",
   "version": "3.9.5"
  }
 },
 "nbformat": 4,
 "nbformat_minor": 5
}
